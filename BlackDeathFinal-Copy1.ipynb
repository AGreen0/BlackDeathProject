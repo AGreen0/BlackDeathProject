{
 "cells": [
  {
   "cell_type": "markdown",
   "metadata": {},
   "source": [
    "#### Amy Green - 200930437 \n",
    "\n",
    "# 5990M: Introduction to Programming for Geographical Information Analysis - Core Skills\n",
    "\n",
    "## Assignment 2: Investigating the Black Death\n",
    "-------------------------------------------------------------"
   ]
  },
  {
   "cell_type": "markdown",
   "metadata": {},
   "source": [
    "### Project Aim\n",
    "\n",
    "<p>The aim of the project hopes to build a model, based upon initial agent-based framework coding schemes, that generates an analysis into an aspect of 'The Black Death'. This project intends to calculate the fatalities from The Great Plague of London via the known population densities of London parishes in 1665. The generation of this measure from historical data will allow any correlation to be investigated and an overall map of total deaths to be produced. Furthermore, the final code should allow for manipulation in terms of changing parameter weights to investigate possible scenarios that could have ensued. </p>"
   ]
  },
  {
   "cell_type": "markdown",
   "metadata": {},
   "source": [
    "### Context\n",
    "<p>The Great Plague of London (1665-1666) was the last occurrence of the fatal ‘Black Death’ Plague that swept across Europe in the 1300s. The bubonic plague caused an epidemic across the 17th century parishes of London, as well as some smaller areas of the UK. The overcrowded city and hot Summer became a breeding ground for the bacterium <i>Yersinia pestis</i> disseminated by rat fleas – the known cause of the plague. Transmission was inevitable due to the high poverty levels, low sanitation rates, and open sewers in closely packed waste-filled streets; especially in poorer areas (Trueman, 2015). Deaths started slowly within the St. Giles’s Parish but rose alarmingly as documented by the weekly ‘Bill of Mortality’ that was legally required from each parish at the time (Defoe, 2005). The numbers of deaths slowed after 18 months due to quarantines, much of the population moving to the country and the onset of Winter, however, the final end emerged due to the Great Fire of London destroying central parts of the city in September 1666. </p>\n"
   ]
  },
  {
   "cell_type": "markdown",
   "metadata": {},
   "source": [
    "### Data Source\n",
    "<p>The calculation of the average death rate from the Great Plague will be generated from two raster maps. The model will be using known rat populations and average population densities of 16 different parishes within London, both from historical records, recorded by rat-catchers and parish figures in 1665, respectively. The original maps have data stored for each 400m x 400m area as text data, but the figures have been averaged to represent either the area covered by the Parish or the area within which the rat-catcher operates.\n",
    "    \n",
    "The relationship to calculate the average death rate from this source data is as follows: </p>\n",
    "\n",
    "<p><b>Death Rate = (0.8 x Rat Population)(1.3 x Population Density) </b></p> \n"
   ]
  },
  {
   "cell_type": "markdown",
   "metadata": {},
   "source": [
    "### Model Expectations \n",
    "\n",
    "<p>The model should first show maps of the original source data: the rat populations and population densities for the 16 investigated parishes. These maps will then be combined using the calculation to generate the average death rate from the Great Plague per week and will be mapped as an image. The final map will then be altered so the user will be able to manipulate the weights of either the rat population or the density population to envision how these alternate factors may change the overall death rate. </p>\n",
    "    \n",
    "<p>The code should run on Windows.</p>\n"
   ]
  },
  {
   "cell_type": "markdown",
   "metadata": {},
   "source": [
    "------------------------------------------------------------------------------\n",
    "### Part 1 - Read in Source Data"
   ]
  },
  {
   "cell_type": "code",
   "execution_count": 36,
   "metadata": {},
   "outputs": [],
   "source": [
    "'''Step 1 - Set up initial imports for programme'''\n",
    "import random\n",
    "%matplotlib inline \n",
    "import matplotlib.pyplot \n",
    "import matplotlib\n",
    "import matplotlib.animation\n",
    "import os\n",
    "import requests\n",
    "import tkinter\n",
    "import pandas as pd #Shortened in standard python documentation format\n",
    "import numpy as np #Shortened in standard python documentation format\n",
    "import ipywidgets as widgets #Shortened in standard python documentation format\n"
   ]
  },
  {
   "cell_type": "markdown",
   "metadata": {},
   "source": [
    "<p><u> Map 1</u> - Rat Populations (Average Rats caught per week) </p>"
   ]
  },
  {
   "cell_type": "code",
   "execution_count": 37,
   "metadata": {
    "scrolled": true
   },
   "outputs": [
    {
     "data": {
      "text/plain": [
       "Text(0.5,1,'Average Rat Populations')"
      ]
     },
     "execution_count": 37,
     "metadata": {},
     "output_type": "execute_result"
    },
    {
     "data": {
      "image/png": "[encoded data removed]",
      "text/plain": [
       "<Figure size 432x288 with 1 Axes>"
      ]
     },
     "metadata": {
      "needs_background": "light"
     },
     "output_type": "display_data"
    }
   ],
   "source": [
    "'''Step 2 - Import data for the rat populations and generate environment from the 2D array'''\n",
    "\n",
    "#Set up a base path for the import of the rats txt file\n",
    "base_path = \"C:\\\\Users\\\\Home\\\\Documents\\\\MSc GIS\\\\Programming\\\\Black_Death\\\\BlackDeathProject\" #Basepath\n",
    "deathrats = \"deathrats.txt\" #Saved filename\n",
    "path_to_file = os.path.join(base_path, deathrats)\n",
    "f = open(path_to_file , 'r')\n",
    "#mapA = f.read()\n",
    "#print(mapA) #Test to show data has imported\n",
    "\n",
    "#Set up an environment to read the rats txt file into - this is called environmentA\n",
    "environmentA = []\n",
    "for line in f:\n",
    "    parsed_line = str.split(line, \",\") #Split values up via commas\n",
    "    rowlist = []\n",
    "    for word in parsed_line:\n",
    "        rowlist.append(float(word))\n",
    "    environmentA.append(rowlist) #Append all lists individually so can print environment\n",
    "f.close()\n",
    "#print(environmentA) #Test environment appears and all lines run \n",
    "\n",
    "#Display environment of rat populations\n",
    "matplotlib.pyplot.xlim(0, 400) #Set up x-axis\n",
    "matplotlib.pyplot.ylim(0, 400) #Set up y-axis\n",
    "matplotlib.pyplot.imshow(environmentA) #Shows the environment\n",
    "matplotlib.pyplot.title('Average Rat Populations', loc='center') #Adds a centred title\n",
    "#hsv()#Altered colourmap to red-yellow-green-cyan-blue-pink-magenta display, from original viridis: aids user interpretation\n"
   ]
  },
  {
   "cell_type": "markdown",
   "metadata": {},
   "source": [
    "<p> This map contains the data for the average rat populations denoted from the amount of rats caught per week. The data is initially placed into a text file which can be seen through print(mapA), but then has been put into an environment which is shown. The different colours show the different amounts of rats, however, this will have more useful when combined with Map 2 in Part 2 when calculating the overall death rates. </p>"
   ]
  },
  {
   "cell_type": "markdown",
   "metadata": {},
   "source": [
    "<p><u> Map 2</u> - Average Population Densities (per Parish) </p>"
   ]
  },
  {
   "cell_type": "code",
   "execution_count": 38,
   "metadata": {},
   "outputs": [
    {
     "data": {
      "text/plain": [
       "Text(0.5,1,'Average Parish Population Densities')"
      ]
     },
     "execution_count": 38,
     "metadata": {},
     "output_type": "execute_result"
    },
    {
     "data": {
      "image/png": "[encoded data removed]",
      "text/plain": [
       "<Figure size 432x288 with 1 Axes>"
      ]
     },
     "metadata": {
      "needs_background": "light"
     },
     "output_type": "display_data"
    }
   ],
   "source": [
    "'''Step 3 - Import data for the parish population densities and generate environment from the 2D array'''\n",
    "\n",
    "#Set up a base path for the import of the parish txt file\n",
    "#base_path = \"C:\\\\Users\\\\Home\\\\Documents\\\\MSc GIS\\\\Programming\\\\Black_Death\\\\BlackDeathProject\" #Basepath\n",
    "deathparishes = \"deathparishes.txt\" #Saved filename\n",
    "path_to_file = os.path.join(base_path, deathparishes)\n",
    "fd = open(path_to_file , 'r')\n",
    "#mapB = fd.read()\n",
    "#print(mapB) #Test to show data has imported\n",
    "\n",
    "#Set up an environment to read the parish txt file into - this is called environmentB\n",
    "environmentB = []\n",
    "for line in fd:\n",
    "    parsed_line = str.split(line, \",\") #Split values up via commas\n",
    "    rowlist = []\n",
    "    for word in parsed_line:\n",
    "        rowlist.append(float(word))\n",
    "    environmentB.append(rowlist) #Append all lists individually so can print environment\n",
    "f.close()\n",
    "#print(environmentB) #Test environment appears and all lines run \n",
    "\n",
    "#Display environment of parish populations\n",
    "matplotlib.pyplot.xlim(0, 400) #Set up x-axis\n",
    "matplotlib.pyplot.ylim(0, 400) #Set up y-axis\n",
    "matplotlib.pyplot.imshow(environmentB) #Shows the environment\n",
    "matplotlib.pyplot.title('Average Parish Population Densities', loc='center') #Adds a centred title\n",
    "#hsv() #Altered colourmap to red-yellow-green-cyan-blue-pink-magenta display, from original viridis"
   ]
  },
  {
   "cell_type": "markdown",
   "metadata": {},
   "source": [
    "<p> This map contains the data for the average population densities per the 16 parishes investigated. The data is initially placed into a text file which can be seen through print(mapB), but then has been put into an environment which is shown. The different colours show the different populations per parish. </p>"
   ]
  },
  {
   "cell_type": "markdown",
   "metadata": {},
   "source": [
    "------------------------------------------------------------------------------\n",
    "### Part 2 - Calculate the Average Death Rate"
   ]
  },
  {
   "cell_type": "code",
   "execution_count": 39,
   "metadata": {},
   "outputs": [
    {
     "data": {
      "image/png": "[encoded data removed]",
      "text/plain": [
       "<Figure size 432x288 with 1 Axes>"
      ]
     },
     "metadata": {
      "needs_background": "light"
     },
     "output_type": "display_data"
    }
   ],
   "source": [
    "'''Step 4 - Calculate Map of Average death rates '''\n",
    "\n",
    "#Sets up a list named results to append all calculated values to\n",
    "result = []\n",
    "\n",
    "for r in range(len(environmentA)):#Goes through both environments' (A and B) rows\n",
    "    row_a = environmentA[r] \n",
    "    row_b = environmentB[r]\n",
    "    rowlist = []\n",
    "    result.append(rowlist) #Append all lists individually so can merge values from environmentA and environmentB\n",
    "    for c in range(len(row_a)): #Goes through both environments' (A and B) columns \n",
    "        rats = row_a[c]        \n",
    "        parishes = row_b[c]\n",
    "        # d = (0.8 x r) x (1.3 x p) Equation used to generate average death rate \n",
    "        d = (0.8 * rats) * (1.3 * parishes) #Puts values through death average equation with initial set parameters\n",
    "        rowlist.append(d)\n",
    "        #print(d) #Test that results array shows     \n",
    "\n",
    "'''Step 5 - Plot and show the average death rates'''\n",
    "\n",
    "#Sets up environment to display the results\n",
    "matplotlib.pyplot.xlim(0, 400) #Set up x-axis\n",
    "matplotlib.pyplot.ylim(0, 400) #Set up y-axis\n",
    "matplotlib.pyplot.imshow(result) #Shows the environment\n",
    "matplotlib.pyplot.title('Average Weekly Death Rates of the Great Plague', loc='center') #Adds a centred title\n",
    "#hsv() #Altered colourmap to red-yellow-green-cyan-blue-pink-magenta display, from original viridis\n",
    "\n",
    "\n",
    "#To do: \n",
    "#Insert legend\n",
    "\n",
    "'''Step 6 - Save the average death rate results as a seperate txt.file'''\n",
    "\n",
    "np.savetxt('result.txt', result, fmt='%-6.2f' , newline=\"\\r\\n\") #Each row should equal a new line on the map\n",
    "#Results have been padded to a width of 6 and rounded to 2 decimal points within the txt.file\n"
   ]
  },
  {
   "cell_type": "markdown",
   "metadata": {},
   "source": [
    "<p> The output map within Part 2 displays the average death rate calculations within the 400x400 environment of the parishes investigated. The results array has been saved as a <i> result.txt </i> file (rounded to two decimal points) that can be manipulated and utilised for further investigation. </p> "
   ]
  },
  {
   "cell_type": "markdown",
   "metadata": {},
   "source": [
    "------------------------------------------------------------------------------\n",
    "### Part 3 - Display the Death Rate with Changing Parameters"
   ]
  },
  {
   "cell_type": "code",
   "execution_count": 40,
   "metadata": {},
   "outputs": [
    {
     "data": {
      "application/vnd.jupyter.widget-view+json": {
       "model_id": "05d1be76451947f89a55e074532b8f70",
       "version_major": 2,
       "version_minor": 0
      },
      "text/plain": [
       "FloatSlider(value=0.8, continuous_update=False, description='Rats:', max=5.0, readout_format='.1f')"
      ]
     },
     "metadata": {},
     "output_type": "display_data"
    },
    {
     "data": {
      "application/vnd.jupyter.widget-view+json": {
       "model_id": "fa0cbff3e6c447ca8872d6494e9cdfe7",
       "version_major": 2,
       "version_minor": 0
      },
      "text/plain": [
       "FloatSlider(value=1.3, continuous_update=False, description='Parishes:', max=5.0, readout_format='.1f')"
      ]
     },
     "metadata": {},
     "output_type": "display_data"
    }
   ],
   "source": [
    "'''Step 7 - Set up Rat Population Parameter Slider'''\n",
    "\n",
    "#Generate a slider for the rats parameter\n",
    "sR = widgets.FloatSlider(\n",
    "    value=0.8, #Initial parameter value set by the equation\n",
    "    min=0, #Minimum of range is 0\n",
    "    max=5.0, #Maximum of range is 5\n",
    "    step=0.1, #Values get to 1 decimal place increments\n",
    "    description='Rats:', #Label for slider\n",
    "    disabled=False,\n",
    "    continuous_update=False,\n",
    "    orientation='horizontal',\n",
    "    readout=True,\n",
    "    readout_format='.1f', \n",
    ") \n",
    "display(sR) #Dispays the parameter slider for rats that users can alter\n",
    "\n",
    "'''Step 8 - Set up Parish Population Density Parameter Slider'''\n",
    "\n",
    "#Generate a slider for the parish parameter\n",
    "sP = widgets.FloatSlider(\n",
    "    value=1.3, #Initial parameter value set by the equation\n",
    "    min=0, #Minimum of range is 0\n",
    "    max=5.0, #Maximum of range is 5\n",
    "    step=0.1, #Values get to 1 decimal place increments\n",
    "    description='Parishes:', #Label for slider\n",
    "    disabled=False,\n",
    "    continuous_update=False,\n",
    "    orientation='horizontal',\n",
    "    readout=True,\n",
    "    readout_format='.1f',\n",
    ") \n",
    "display(sP) #Displays the parameter slider for parish population that users can alter "
   ]
  },
  {
   "cell_type": "markdown",
   "metadata": {},
   "source": [
    "<p> The sliders above are available to alter to investigate the relationship between the rat population values and the average population density amounts. These will then be the next set parameters when the proceeding cell is run. </p>"
   ]
  },
  {
   "cell_type": "code",
   "execution_count": 41,
   "metadata": {
    "scrolled": true
   },
   "outputs": [
    {
     "name": "stdout",
     "output_type": "stream",
     "text": [
      "Changed Parameter Values\n",
      "Rats: 0.8\n",
      "Parishes: 1.3\n",
      "Average weekly death rate at these parameters = 10670.4\n"
     ]
    },
    {
     "data": {
      "image/png": "[encoded data removed]",
      "text/plain": [
       "<Figure size 504x504 with 1 Axes>"
      ]
     },
     "metadata": {
      "needs_background": "light"
     },
     "output_type": "display_data"
    }
   ],
   "source": [
    "'''Step 9 - Display the Changed Parameters '''\n",
    "\n",
    "#Formatting to display parameter amounts to correlate to the underlying map\n",
    "print('Changed Parameter Values')\n",
    "print('Rats:', sR.value) \n",
    "print('Parishes:', sP.value)\n",
    "\n",
    "\n",
    "'''Step 10 - Create a map of the death rate average with new changed parameters'''\n",
    "\n",
    "#Alter the results list to incorporate the altered parameter values\n",
    "result = []\n",
    "\n",
    "for r in range(len(environmentA)): #Goes through both environments' (A and B) rows\n",
    "    row_a = environmentA[r]\n",
    "    row_b = environmentB[r]\n",
    "    rowlist = []\n",
    "    result.append(rowlist) #Append all lists individually so can merge values from environmentA and environmentB\n",
    "    for c in range(len(row_a)): #Goes through both environments' (A and B) columns\n",
    "        rats = row_a[c]        \n",
    "        parishes = row_b[c]\n",
    "        # d = (0.8 x r) x (1.3 x p) #Original equation used to generate average death rate \n",
    "        d = (sR.value * rats) * (sP.value * parishes) #Updated equation to show the altered parameter values\n",
    "        rowlist.append(d)\n",
    "         #print(d) #Test that results array has updated\n",
    "            \n",
    "#Set up a larger figure view of the final map\n",
    "fig = matplotlib.pyplot.figure(figsize=(7,7))\n",
    "ax = fig.add_axes([0, 0, 1, 1])\n",
    "\n",
    "matplotlib.pyplot.xlim(0, 400) #Set up x-axis\n",
    "matplotlib.pyplot.ylim(0, 400) #Set up y-axis\n",
    "matplotlib.pyplot.imshow(result) #Display the final map\n",
    "matplotlib.pyplot.xlabel('Rat Populations') #Label the x-axis\n",
    "matplotlib.pyplot.ylabel('Parish Densities') #Label the y-axis\n",
    "#matplotlib.pyplot.legend() #Test to see if legend is plausible\n",
    "matplotlib.pyplot.title('Average Weekly Death Rates of the Great Plague at Altered Parameters', loc='center') #Adds a centred title\n",
    "#hsv() #Altered colourmap to red-yellow-green-cyan-blue-pink-magenta display, from original viridis\n",
    "\n",
    "#Saves the final death result as a .png file\n",
    "matplotlib.pyplot.savefig('result.png', dpi=None, facecolor='w', edgecolor='w', #file name = result.png\n",
    "        orientation='portrait')\n",
    "\n",
    "def update(d):\n",
    "    d = (sR * rats)*(sP * parishes)\n",
    "    rowlist.append(d) #Updates figure with new parameters\n",
    "    \n",
    "print('Average weekly death rate at these parameters =', round(d,2)) #Print the average weekly death rate with altered parameters to 2 decimal places\n",
    "    \n"
   ]
  },
  {
   "cell_type": "markdown",
   "metadata": {},
   "source": [
    "The final map displays the average death rate of people within the 16 investigated parishes affected by the Great Plague of 1665. Changing the parameters will generate a different total value which will be interesting to explore. "
   ]
  },
  {
   "cell_type": "markdown",
   "metadata": {},
   "source": [
    "------------------------------------------------------------------------------\n",
    "### Conclusions and Review\n",
    "<p> The code appears to run smoothly and does generate an average weekly death rate successfully, even when parameter values have been changed. The issue that arises is that the final map doesn't change much, albeit small changes, if the parameters are altered. Therefore, to enhance the model further, the map display aspect would be explored to be show a clearer layout of the values, possinly by a line or correlation style graph. This would enable the relationship between the rat populations and the parish population densities to be interrogated further. </p>\n",
    " \n",
    "<p><i>n.b.</i> The one issue with the model is that the base paths of the initial txt.file imports need to be altered if copying the code as they are read from a saved folder into the Jupyter notebook. This is simple to do, just a tad annoying! </p>"
   ]
  },
  {
   "cell_type": "markdown",
   "metadata": {},
   "source": [
    "#### References\n",
    "<ul type=\"circle\">\n",
    "<li><p> Defoe, D. 2005.<i> History of the Plague in London.</i> [Online]. USA: American Book Company. [Accessed 2/1/19] Available from: <a href=\"http://www.gutenberg.org/files/17221/17221-h/17221-h.htm\".>http://www.gutenberg.org/files/17221/17221-h/17221-h.htm.</a> </p></li>\n",
    "<li><p> Trueman, C.N. 2015.<i> The Plague of 1665. </i> [Online]. [Accessed 2/1/19]. Available from: <a href=\"https://www.historylearningsite.co.uk/stuart-england/the-plagu,/ae-of-1665/\".> https://www.historylearningsite.co.uk/stuart-england/the-plague-of-1665/.</a> </p> </li>\n",
    "<li><p> Wikipedia. 2018. <i> Great Plague of London. </i> [Online]. [Accessed 2/1/19]. Available from: <a href=\"https://en.wikipedia.org/wiki/Great_Plague_of_London.\">https://en.wikipedia.org/wiki/Great_Plague_of_London.</a></p></li>\n",
    "</ul>\n"
   ]
  }
 ],
 "metadata": {
  "kernelspec": {
   "display_name": "Python 3",
   "language": "python",
   "name": "python3"
  },
  "language_info": {
   "codemirror_mode": {
    "name": "ipython",
    "version": 3
   },
   "file_extension": ".py",
   "mimetype": "text/x-python",
   "name": "python",
   "nbconvert_exporter": "python",
   "pygments_lexer": "ipython3",
   "version": "3.7.0"
  }
 },
 "nbformat": 4,
 "nbformat_minor": 2
}

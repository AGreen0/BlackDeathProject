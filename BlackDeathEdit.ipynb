{
 "cells": [
  {
   "cell_type": "markdown",
   "metadata": {},
   "source": [
    "#### Amy Green - 200930437 \n",
    "\n",
    "# <center>  5990M: Introduction to Programming for Geographical Information Analysis - Core Skills </center>\n",
    "\n",
    "##  <center><u> __**Assignment 2: Investigating the Black Death**__ </u></center>\n",
    "-------------------------------------------------------------"
   ]
  },
  {
   "cell_type": "markdown",
   "metadata": {},
   "source": [
    "### Project Aim\n",
    "\n",
    "<p>The aim of the project hopes to build a model, based upon initial agent-based framework coding schemes, that generates an analysis into an aspect of 'The Black Death'. This project intends to calculate the fatalities from The Great Plague of London via the known population densities of London parishes in 1665. The generation of this measure from historical data will allow any correlation to be investigated and an overall map of total deaths to be produced. Furthermore, the final code should allow for manipulation in terms of changing parameter weights to investigate possible scenarios that could have ensued. </p>"
   ]
  },
  {
   "cell_type": "markdown",
   "metadata": {},
   "source": [
    "### Context\n",
    "<p>The Great Plague of London (1665-1666) was the last occurrence of the fatal ‘Black Death’ Plague that swept across Europe in the 1300s. The bubonic plague caused an epidemic across the 17th century parishes of London, as well as some smaller areas of the UK. The overcrowded city and hot Summer became a breeding ground for the bacterium <i>Yersinia pestis</i> disseminated by rat fleas – the known cause of the plague. Transmission was inevitable due to the high poverty levels, low sanitation rates, and open sewers in closely packed waste-filled streets; especially in poorer areas (Trueman, 2015). Deaths started slowly within the St. Giles’s Parish but rose alarmingly as documented by the weekly ‘Bill of Mortality’ that was legally required from each parish at the time (Defoe, 2005). The numbers of deaths slowed after 18 months due to quarantines, much of the population moving to the country and the onset of Winter, however, the final end emerged due to the Great Fire of London destroying central parts of the city in September 1666. </p>\n"
   ]
  },
  {
   "cell_type": "markdown",
   "metadata": {},
   "source": [
    "### Data Source\n",
    "<p>The calculation of the average death rate from the Great Plague will be generated from two raster maps. The model will be using known rat populations and average population densities of 16 different parishes within London, both from historical records, recorded by rat-catchers and parish figures in 1665, respectively. The original maps have data stored for each 400m x 400m area as text data, but the figures have been averaged to represent either the area covered by the Parish or the area within which the rat-catcher operates.\n",
    "    \n",
    "The relationship to calculate the average death rate from this source data is as follows: \n",
    "\n",
    "<b>Death Rate = (0.8 x Rat Population)(1.3 x Population Density) </b></p> \n"
   ]
  },
  {
   "cell_type": "markdown",
   "metadata": {},
   "source": [
    "### Model Expectations \n",
    "\n",
    "<p>The model should first show maps of the original source data: the rat populations and population densities for the 16 investigated parishes. These maps will then be combined using the calculation to generate the average death rate from the Great Plague per week and will be mapped as an image. The final map will then be altered so the user will be able to manipulate the weights of either the rat population or the density population to envision how these alternate factors may change the overall death rate. </p>\n",
    "    \n",
    "<p>The code should run on Windows.</p>\n"
   ]
  },
  {
   "cell_type": "markdown",
   "metadata": {},
   "source": [
    "------------------------------------------------------------------------------\n",
    "### Part 1 - Read in Source Data"
   ]
  },
  {
   "cell_type": "code",
   "execution_count": 25,
   "metadata": {},
   "outputs": [],
   "source": [
    "#Set up initial imports\n",
    "import random\n",
    "%matplotlib inline \n",
    "import matplotlib.pyplot \n",
    "import matplotlib\n",
    "import matplotlib.animation\n",
    "import requests\n",
    "import tkinter\n",
    "import pandas as pd\n",
    "import numpy as np\n",
    "import bs4 "
   ]
  },
  {
   "cell_type": "markdown",
   "metadata": {},
   "source": [
    "<p><u> Map 1</u> - Rat Populations (Average Rats caught per week) </p>"
   ]
  },
  {
   "cell_type": "code",
   "execution_count": 3,
   "metadata": {
    "scrolled": true
   },
   "outputs": [
    {
     "data": {
      "text/plain": [
       "<matplotlib.image.AxesImage at 0x1671549d908>"
      ]
     },
     "execution_count": 3,
     "metadata": {},
     "output_type": "execute_result"
    },
    {
     "data": {
      "image/png": "[encoded data removed]",
      "text/plain": [
       "<Figure size 432x288 with 1 Axes>"
      ]
     },
     "metadata": {
      "needs_background": "light"
     },
     "output_type": "display_data"
    }
   ],
   "source": [
    "'''Step 1 - Import data for the rat populations and generate environment from the 2D array'''\n",
    "\n",
    "import os\n",
    "base_path = \"C:\\\\Users\\\\Home\\\\Documents\\\\MSc GIS\\\\Programming\\\\Black_Death\\\\BlackDeathProject\"\n",
    "deathrats = \"deathrats.txt\"\n",
    "path_to_file = os.path.join(base_path, deathrats)\n",
    "f = open(path_to_file , 'r')\n",
    "#mapA = f.read()\n",
    "#print(mapA) #Test to show data has imported\n",
    "environmentA = []\n",
    "for line in f:\n",
    "    parsed_line = str.split(line, \",\")\n",
    "    rowlist = []\n",
    "    for word in parsed_line:\n",
    "        rowlist.append(float(word))\n",
    "    environmentA.append(rowlist)\n",
    "f.close()\n",
    "#print(environmentA) #Test environment appears and all lines run \n",
    "\n",
    "#Display environment of rat populations\n",
    "matplotlib.pyplot.xlim(0, 400) #Set up x-axis\n",
    "matplotlib.pyplot.ylim(0, 400) #Set up y-axis\n",
    "matplotlib.pyplot.imshow(environmentA) #Shows the environment\n"
   ]
  },
  {
   "cell_type": "markdown",
   "metadata": {},
   "source": [
    "<p> This map contains the data for the average rat populations denoted from the amount of rats caught per week. The data is initially placed into a text file which can be seen through print(mapA), but then has been put into an environment which is shown. The different colours show the different amounts of rats, however, this will have more useful when combined with Map 2 in Part 2 when calculating the overall death rates. </p>"
   ]
  },
  {
   "cell_type": "markdown",
   "metadata": {},
   "source": [
    "<p><u> Map 2</u> - Average Population Densities (per Parish) </p>"
   ]
  },
  {
   "cell_type": "code",
   "execution_count": 4,
   "metadata": {},
   "outputs": [
    {
     "data": {
      "text/plain": [
       "<matplotlib.image.AxesImage at 0x16716a05fd0>"
      ]
     },
     "execution_count": 4,
     "metadata": {},
     "output_type": "execute_result"
    },
    {
     "data": {
      "image/png": "[encoded data removed]",
      "text/plain": [
       "<Figure size 432x288 with 1 Axes>"
      ]
     },
     "metadata": {
      "needs_background": "light"
     },
     "output_type": "display_data"
    }
   ],
   "source": [
    "'''Step 2 - Import data for the parish population densities and generate environment from the 2D array'''\n",
    "\n",
    "#base_path = \"C:\\\\Users\\\\Home\\\\Documents\\\\MSc GIS\\\\Programming\\\\Black_Death\"\n",
    "deathparishes = \"deathparishes.txt\"\n",
    "path_to_file = os.path.join(base_path, deathparishes)\n",
    "fd = open(path_to_file , 'r')\n",
    "#mapB = fd.read()\n",
    "#print(mapB) #Test to show data has imported\n",
    "environmentB = []\n",
    "for line in fd:\n",
    "    parsed_line = str.split(line, \",\")\n",
    "    rowlist = []\n",
    "    for word in parsed_line:\n",
    "        rowlist.append(float(word))\n",
    "    environmentB.append(rowlist)\n",
    "f.close()\n",
    "#print(environmentB) #Test environment appears and all lines run \n",
    "\n",
    "#Display environment of parish populations\n",
    "matplotlib.pyplot.xlim(0, 400) #Set up x-axis\n",
    "matplotlib.pyplot.ylim(0, 400) #Set up y-axis\n",
    "matplotlib.pyplot.imshow(environmentB) #Shows the environment\n"
   ]
  },
  {
   "cell_type": "markdown",
   "metadata": {},
   "source": [
    "<p> This map contains the data for the average population densities per the 16 parishes investigated. The data is initially placed into a text file which can be seen through print(mapB), but then has been put into an environment which is shown. The different colours show the different populations per parish. </p>"
   ]
  },
  {
   "cell_type": "markdown",
   "metadata": {},
   "source": [
    "------------------------------------------------------------------------------\n",
    "### Part 2 - Calculate the Average Death Rate"
   ]
  },
  {
   "cell_type": "code",
   "execution_count": 8,
   "metadata": {},
   "outputs": [
    {
     "data": {
      "image/png": "[encoded data removed]",
      "text/plain": [
       "<Figure size 432x288 with 1 Axes>"
      ]
     },
     "metadata": {
      "needs_background": "light"
     },
     "output_type": "display_data"
    }
   ],
   "source": [
    "'''Step 3 - Calculate Map of Average death rates '''\n",
    "\n",
    "result = []\n",
    "\n",
    "for r in range(len(environmentA)):\n",
    "    row_a = environmentA[r]\n",
    "    row_b = environmentB[r]\n",
    "    rowlist = []\n",
    "    result.append(rowlist)\n",
    "    for c in range(len(row_a)):\n",
    "        rats = row_a[c]        \n",
    "        parishes = row_b[c]\n",
    "        # d = (0.8 x r) x (1.3 x p) Equation used to generate average death rate \n",
    "        d = (0.8 * rats) * (1.3 * parishes)\n",
    "        rowlist.append(d)\n",
    "        #print(d) #Test that results array shows     \n",
    "\n",
    "'''Step 4 - Plot and show the average death rates'''\n",
    "\n",
    "matplotlib.pyplot.xlim(0, 400)\n",
    "matplotlib.pyplot.ylim(0, 400)\n",
    "matplotlib.pyplot.imshow(result)\n",
    "\n",
    "\n",
    "#To do: \n",
    "#Insert legend\n",
    "#Adapt colour scheme\n",
    "\n",
    "'''\n",
    "from PIL import Image\n",
    "df = result.pd\n",
    "for rows in df:\n",
    "    arr=np.array(df['pixels'])\n",
    "    print(arr)\n",
    "\n",
    "plt.imshow(result, interpolation='nearest')\n",
    "plt.show()\n",
    "\n",
    "from matplotlib.pyplot import imshow\n",
    "imshow(result)\n",
    "\n",
    "#Image factory\n",
    "var createImg = function(src, title); \n",
    "  var img   = new Image();\n",
    "  img.src   = src;\n",
    "  img.alt   = title;\n",
    "  img.title = title;\n",
    "  return img \n",
    "\n",
    "from IPython.display import Image\n",
    "Image(filename='result')\n",
    "\n",
    "from PIL import Image\n",
    "import numpy as np\n",
    "\n",
    "w, h = 400, 400\n",
    "img = Image.fromarray(d, 'RGB')\n",
    "img.save('my.png')\n",
    "img.show()\n",
    "\n",
    "\n",
    "def update(frame_number):\n",
    "    fig.clear()\n",
    "    global carry_on\n",
    "    \n",
    "'''\n",
    "\n",
    "'''Step 5 - Save the average death rate results as a seperate txt.file'''\n",
    "\n",
    "np.savetxt('result.txt', result, fmt='%-6.2f' , newline=\"\\r\\n\") #Each row should equal a new line on the map\n",
    "#Results have been padded to a width of 6 and rounded to 2 decimal points within the txt.file\n"
   ]
  },
  {
   "cell_type": "markdown",
   "metadata": {},
   "source": [
    "<p> The output map within Part 2 displays the average death rate calculations within the 400x400 environment of the parishes investigated. The results array has been saved as a <i> result.txt </i> file (rounded to two decimal points) that can be manipulated and utilised for further investigation. </p> "
   ]
  },
  {
   "cell_type": "markdown",
   "metadata": {},
   "source": [
    "------------------------------------------------------------------------------\n",
    "### Part 3 - Display the Death Rate with Changing Parameters"
   ]
  },
  {
   "cell_type": "code",
   "execution_count": null,
   "metadata": {},
   "outputs": [],
   "source": [
    "'''Step 6 - Set up GUI window'''\n",
    "\n",
    "from matplotlib.widgets import Slider\n",
    "#from pylab import *\n",
    "from tkinter import *\n",
    "\n",
    "R = 0.8\n",
    "P = 1.3 \n",
    "\n",
    "def f(S, R, P):\n",
    "    a1 = R*rats  #Rats\n",
    "    a2 = P*parishes #Parishes\n",
    "    return a1*a2\n",
    "\n",
    "S=arange(0,100,0.1)\n",
    "\n",
    "ax = subplot(111)\n",
    "subplots_adjust(left=0.15, bottom=0.25)\n",
    "l, = plot(f(S, 2.0, 2.0))\n",
    "grid(False)\n",
    "title('Death Rate with Changed Parameters')\n",
    "xlabel('Rat Population')\n",
    "ylabel('Parish Population')\n",
    "\n",
    "axcolor = 'lightgoldenrodyellow'\n",
    "axR = axes([0.15, 0.1, 0.65, 0.03], facecolor=axcolor)\n",
    "axP = axes([0.15, 0.15, 0.65, 0.03], facecolor=axcolor)\n",
    "\n",
    "sR = Slider(axR, 'R', 0.1, 3.0, valinit=2)\n",
    "sP = Slider(axP, 'P', 0.1, 3.0, valinit=2)\n",
    "\n",
    "def update(val):\n",
    "    l.set_ydata(f(S, sR.val, sP.val))\n",
    "\n",
    "sR.on_changed(update)\n",
    "sP.on_changed(update)\n",
    "\n",
    "show()\n",
    "\n",
    "\n",
    "#Main GUI Window\n",
    "root = tkinter.Tk() \n",
    "#Generating Results array within GUI window  \n",
    "root.wm_title(\"result\")\n",
    "#Set up the figure and axes\n",
    "fig = matplotlib.pyplot.figure(figsize=(7,7))\n",
    "ax = fig.add_axes([0, 0, 1, 1])\n",
    "\n",
    "#Show the environment within the new display with a fixed axes \n",
    "matplotlib.pyplot.xlim(0, 400)\n",
    "matplotlib.pyplot.ylim(0, 400) \n",
    "matplotlib.pyplot.imshow(result)\n"
   ]
  },
  {
   "cell_type": "code",
   "execution_count": null,
   "metadata": {},
   "outputs": [],
   "source": [
    "def show_values():\n",
    "    print (w1.get(), w2.get())\n",
    "\n",
    "master = Tk()\n",
    "w1 = Scale(master, from_=0, to=42)\n",
    "w1.set(19)\n",
    "w1.pack()\n",
    "w2 = Scale(master, from_=0, to=200, orient=HORIZONTAL)\n",
    "w2.set(23)\n",
    "w2.pack()\n",
    "Button(master, text='Show', command=show_values).pack()\n",
    "\n",
    "mainloop()"
   ]
  },
  {
   "cell_type": "markdown",
   "metadata": {},
   "source": [
    "------------------------------------------------------------------------------\n",
    "### Conclusions and Review"
   ]
  },
  {
   "cell_type": "markdown",
   "metadata": {},
   "source": [
    "#### References\n",
    "<ul type=\"circle\">\n",
    "<li><p> Defoe, D. 2005.<i> History of the Plague in London.</i> [Online]. USA: American Book Company. [Accessed 2/1/19] Available from: <a href=\"http://www.gutenberg.org/files/17221/17221-h/17221-h.htm\".>http://www.gutenberg.org/files/17221/17221-h/17221-h.htm.</a> </p></li>\n",
    "<li><p> Trueman, C.N. 2015.<i> The Plague of 1665. </i> [Online]. [Accessed 2/1/19]. Available from: <a href=\"https://www.historylearningsite.co.uk/stuart-england/the-plagu,/ae-of-1665/\".> https://www.historylearningsite.co.uk/stuart-england/the-plague-of-1665/.</a> </p> </li>\n",
    "<li><p> Wikipedia. 2018. <i> Great Plague of London. </i> [Online]. [Accessed 2/1/19]. Available from: <a href=\"https://en.wikipedia.org/wiki/Great_Plague_of_London.\">https://en.wikipedia.org/wiki/Great_Plague_of_London.</a></p></li>\n",
    "</ul>\n"
   ]
  },
  {
   "cell_type": "code",
   "execution_count": null,
   "metadata": {},
   "outputs": [],
   "source": []
  }
 ],
 "metadata": {
  "kernelspec": {
   "display_name": "Python 3",
   "language": "python",
   "name": "python3"
  },
  "language_info": {
   "codemirror_mode": {
    "name": "ipython",
    "version": 3
   },
   "file_extension": ".py",
   "mimetype": "text/x-python",
   "name": "python",
   "nbconvert_exporter": "python",
   "pygments_lexer": "ipython3",
   "version": "3.7.0"
  }
 },
 "nbformat": 4,
 "nbformat_minor": 2
}
